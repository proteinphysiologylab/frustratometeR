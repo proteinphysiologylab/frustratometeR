{
  "cells": [
    {
      "cell_type": "markdown",
      "metadata": {
        "id": "view-in-github",
        "colab_type": "text"
      },
      "source": [
        "<a href=\"https://colab.research.google.com/github/proteinphysiologylab/frustratometeR/blob/master/FrustratometeR_Colab.ipynb\" target=\"_parent\"><img src=\"https://colab.research.google.com/assets/colab-badge.svg\" alt=\"Open In Colab\"/></a>"
      ]
    },
    {
      "cell_type": "markdown",
      "metadata": {
        "id": "8uFNVxq3X53h"
      },
      "source": [
        "## **Local Energetic Frustration**\n",
        "In this colab we will learn to calculate and analyze frustration patterns protein structures. For this we will use new functionalities of the frustratometer (R package). We will also analyze frustration in molecular dynamics simulations.\n",
        "\n",
        "```\n",
        "# Esto tiene formato de código\n",
        "```\n",
        "\n"
      ]
    },
    {
      "cell_type": "markdown",
      "metadata": {
        "id": "c0yDclMyMNvl"
      },
      "source": [
        "### **We are going to test the Frustratometer.**\n",
        "We are going to install the minimum libraries to be able to run the **frustratometer** in colab!\n",
        "\n"
      ]
    },
    {
      "cell_type": "code",
      "source": [
        "#Install biopython and visualization\n",
        "!pip install biopython py3Dmol\n",
        "#Downgrade rpy para correr frustraR\n",
        "!pip install rpy2==3.5.1"
      ],
      "metadata": {
        "id": "xcY54LrTAyFR"
      },
      "execution_count": null,
      "outputs": []
    },
    {
      "cell_type": "markdown",
      "source": [
        "Installing dependencies (this part takes around 40 mins). Check that in the line that contains \"KEY_MODELLER=XXX\", \"XXX\" needs to be replaced by a valid Modeller licence."
      ],
      "metadata": {
        "id": "GvKqN45UlRN6"
      }
    },
    {
      "cell_type": "code",
      "execution_count": null,
      "metadata": {
        "id": "TXp5U_uiM8JU"
      },
      "outputs": [],
      "source": [
        "!apt update -y\n",
        "!apt install wget mc r-base python3 python3-pip pymol libmagick++-dev libcurl4-openssl-dev libssl-dev libgit2-dev -y\n",
        "!apt install libcurl4-gnutls-dev libxml2-dev -y\n",
        "!python3 -m pip install numpy biopython leidenalg\n",
        "!apt install software-properties-common -y\n",
        "!wget https://salilab.org/modeller/9.25/modeller_9.25-1_amd64.deb\n",
        "!env KEY_MODELLER=XXX dpkg -i modeller_9.25-1_amd64.deb\n",
        "!Rscript -e \"install.packages('ggrepel')\"\n",
        "!Rscript -e \"install.packages('igraph')\"\n",
        "!Rscript -e \"install.packages('dplyr')\"\n",
        "!Rscript -e \"install.packages('FactoMineR')\"\n",
        "!Rscript -e \"install.packages('Hmisc')\"`\n",
        "!Rscript -e \"install.packages('argparse')\"\n",
        "!Rscript -e \"install.packages('leiden')\"\n",
        "!Rscript -e \"install.packages('magick')\"\n",
        "!Rscript -e \"options(timeout=9999999)\"\n",
        "!Rscript -e \"devtools::install_github('proteinphysiologylab/frustratometeR')\""
      ]
    },
    {
      "cell_type": "markdown",
      "source": [
        "Now, we are going to **donwload two proteins** which are two hemoglobins to which we are going to calculate the frustration at the contact level (mutational and configurational). The files will be stored in /content/"
      ],
      "metadata": {
        "id": "uVG9TEHXkl6k"
      }
    },
    {
      "cell_type": "code",
      "source": [
        "#Loading the R extension interactively\n",
        "%load_ext rpy2.ipython"
      ],
      "metadata": {
        "id": "bWPsq95lXJgU"
      },
      "execution_count": null,
      "outputs": []
    },
    {
      "cell_type": "code",
      "execution_count": null,
      "metadata": {
        "id": "cY0pX8mOAQ00"
      },
      "outputs": [],
      "source": [
        "!wget http://www.rcsb.org/pdb/files/1fhj.pdb -O 1fhj.pdb\n",
        "!wget http://www.rcsb.org/pdb/files/2dn1.pdb -O 2dn1.pdb\n",
        "!wget http://www.rcsb.org/pdb/files/1m6k.pdb -O 1m6k.pdb"
      ]
    },
    {
      "cell_type": "markdown",
      "source": [
        "####Visualization of the structures"
      ],
      "metadata": {
        "id": "0xB4ZeRwCNWY"
      }
    },
    {
      "cell_type": "code",
      "source": [
        "#Visualizing the heterotetramer\n",
        "import py3Dmol\n",
        "#First we assign the py3Dmol.view as view\n",
        "view=py3Dmol.view()\n",
        "#The following lines are used to add the addModel class\n",
        "#to read the PDB files of chain B and C\n",
        "view.addModel(open('/content/1fhj.pdb', 'r').read(),'pdb')\n",
        "#Zooming into all visualized structures \n",
        "view.zoomTo()\n",
        "#Here we set the background color as white\n",
        "view.setBackgroundColor('white')\n",
        "#Here we set the visualization style for chain B and C\n",
        "view.setStyle({'chain':'A'},{'cartoon': {'color':'purple'}})\n",
        "view.setStyle({'chain':'B'},{'cartoon': {'color':'green'}})\n",
        "view.setStyle({'chain':'C'},{'cartoon': {'color':'yellow'}})\n",
        "view.setStyle({'chain':'D'},{'cartoon': {'color':'blue'}})\n",
        "#And we finally visualize the structures using the command below\n",
        "view.show()"
      ],
      "metadata": {
        "id": "TeWC7drHBq_o"
      },
      "execution_count": null,
      "outputs": []
    },
    {
      "cell_type": "markdown",
      "source": [
        "####Frustration calculation in heterocomplexes"
      ],
      "metadata": {
        "id": "tgKNku5RCLH4"
      }
    },
    {
      "cell_type": "markdown",
      "metadata": {
        "id": "xZ00ub1mDSVv"
      },
      "source": [
        "We will generate the **R script** to frustrate all the pdbs out there **in a directory**!\n",
        "\n",
        "\n"
      ]
    },
    {
      "cell_type": "code",
      "source": [
        "#create a folder to save the frustration results (/content/Results)\n",
        "!mkdir Results"
      ],
      "metadata": {
        "id": "z6Xb6AZeBnY9"
      },
      "execution_count": null,
      "outputs": []
    },
    {
      "cell_type": "code",
      "source": [
        "%%R\n",
        "library(frustratometeR)\n",
        "\n",
        "dir_frustration(PdbsDir = \"/content/\", Mode = \"configurational\", ResultsDir =\"/content/Results/\")"
      ],
      "metadata": {
        "id": "iDJt9B42eDkg"
      },
      "execution_count": null,
      "outputs": []
    },
    {
      "cell_type": "code",
      "source": [
        "from IPython.display import Image\n",
        "Image('/content/Results/1fhj.done/Images/1fhj_configurational_map.png', width=600, height=400)"
      ],
      "metadata": {
        "id": "bADhXq97feG1"
      },
      "execution_count": null,
      "outputs": []
    },
    {
      "cell_type": "code",
      "source": [
        "from IPython.display import Image\n",
        "Image('/content/Results/2dn1.done/Images/2dn1_configurational_map.png', width=600, height=400)"
      ],
      "metadata": {
        "id": "hGH7lICX2rlo"
      },
      "execution_count": null,
      "outputs": []
    },
    {
      "cell_type": "markdown",
      "source": [
        "There are many **in vitro experiments on enzymatic proteins** that show that, if a residue belonging to the active site is mutated, **stability increases but this directly impacts on a reduction of enzymatic function**.\n",
        "Can we capture this through a frustration analysis?\n",
        "\n",
        "Let's take a look at an example, from the paper Characterization of the Global Stabilizing Substitution A77V and Its Role in the Evolution of CTX-M β-Lactamases\n",
        "\n",
        "'Amino acid substitutions in the active site of CTX-M enzymes may change their activity and substrate specificity at the cost of stability. The A77V substitution is a stabilizing mutation that compensates for a loss in stability associated with substitutions that alter catalytic activity. The A77V substitution increases the overall thermal stability of the enzyme, allowing it to absorb a greater number of deleterious destabilizing mutations and increasing its access to alternate evolutionary paths'\n",
        "\n",
        "https://journals.asm.org/doi/full/10.1128/AAC.00618-15\n",
        "\n",
        "Let's get started **frustrating a beta-lactamase** (PdbID 1m6k Chain A)."
      ],
      "metadata": {
        "id": "5mbdmEaRgu-x"
      }
    },
    {
      "cell_type": "code",
      "execution_count": null,
      "metadata": {
        "id": "7Wk8ydAa-4dM"
      },
      "outputs": [],
      "source": [
        "%%R\n",
        "library(frustratometeR)\n",
        "\n",
        "\n",
        "# Calculate frustration for a structure to be downloaded from the PDB\n",
        "Pdb_sing <- calculate_frustration(PdbID = '1m6k', Mode = \"mutational\", ResultsDir =  \"/content/Results/\", Chain=\"A\", Graphics = TRUE)\n"
      ]
    },
    {
      "cell_type": "code",
      "source": [
        "from IPython.display import Image\n",
        "Image('/content/Results/1m6k_A.done/Images/1m6k_A_mutational_map.png', width=600, height=400)"
      ],
      "metadata": {
        "id": "-MCUkoQalSio"
      },
      "execution_count": null,
      "outputs": []
    },
    {
      "cell_type": "markdown",
      "metadata": {
        "id": "p-fror6FCS-e"
      },
      "source": [
        "With the new **functionalities of the FrustraR** we can predict the frustration of a **point mutation** for all frustration modes (mutational, configurational and singleresidue) in a very easy way.\n"
      ]
    },
    {
      "cell_type": "code",
      "source": [
        "%%R\n",
        "help(calculate_frustration)"
      ],
      "metadata": {
        "id": "K5XDHoc6WT3t"
      },
      "execution_count": null,
      "outputs": []
    },
    {
      "cell_type": "code",
      "source": [],
      "metadata": {
        "id": "qMfoKZe11I7z"
      },
      "execution_count": null,
      "outputs": []
    },
    {
      "cell_type": "markdown",
      "source": [
        "The following lines will mutate a given residue by all the alternative aminoacid identities and evaluate how this impact in the local energetic frustration values."
      ],
      "metadata": {
        "id": "BdZHdToGtWAu"
      }
    },
    {
      "cell_type": "code",
      "execution_count": null,
      "metadata": {
        "id": "t1yZOjWw_dQa"
      },
      "outputs": [],
      "source": [
        "%%R\n",
        "library(frustratometeR)\n",
        "\n",
        "Pdb_conf <- calculate_frustration(PdbID = \"1m6k\", Chain=\"A\", Mode = 'mutational', ResultsDir = \"/content/Results/\")\n",
        "#Pdb_conf <- calculate_frustration(PdbFile = \"/content/P01116-2.pdb\", Chain=\"A\", Mode = 'mutational', ResultsDir = \"/content/Results/\")\n",
        "Pdb_conf <- mutate_res(Pdb = Pdb_conf, Resno = as.numeric(117), Chain = \"A\")\n",
        "plot_mutate_res(Pdb = Pdb_conf, Resno = as.numeric(117), Chain = \"A\", Save = TRUE )"
      ]
    },
    {
      "cell_type": "code",
      "source": [
        "from IPython.display import Image\n",
        "Image('/content/Results/P01116-2_A.done/MutationsData/Images/mutational_117_threading_A.png')\n",
        "\n"
      ],
      "metadata": {
        "id": "8chlx0--ncmG"
      },
      "execution_count": null,
      "outputs": []
    },
    {
      "cell_type": "markdown",
      "source": [
        "## How does the frustration of a residue change during the folding process?"
      ],
      "metadata": {
        "id": "bp0kkCjjLr6z"
      }
    },
    {
      "cell_type": "markdown",
      "metadata": {
        "id": "7NU8JleOA2Rc"
      },
      "source": [
        "Let's **create a folder named Dynamic** and download a zipped file containing frames from a **molecular dynamics simulation of 1n0r protein folding**.\n",
        "\n",
        "Let's download and unzip the frames (they are in .pdb format)"
      ]
    },
    {
      "cell_type": "code",
      "source": [
        "!gdown 1-jr_XQYzGWA-CGrdQjE6QjRjl1MO80nN -O /content/Dynamics.zip\n",
        "!unzip /content/Dynamics.zip -d /content/"
      ],
      "metadata": {
        "id": "BMvYtCdIxpro"
      },
      "execution_count": null,
      "outputs": []
    },
    {
      "cell_type": "code",
      "source": [
        "!touch /content/traj.pdb\n",
        "!rm /content/traj.pdb\n",
        "!for f in $(ls -1v /content/Dynamics/*pdb); do (cat \"${f}\"; echo) >> /content/traj.pdb; done\n",
        "\n",
        "#@title ###Visualize trajectory\n",
        "#define number of frames\n",
        "import py3Dmol\n",
        "\n",
        "view = py3Dmol.view()\n",
        "\n",
        "view.addModelsAsFrames(open('/content/traj.pdb', 'r').read(),'pdb')\n",
        "\n",
        "view.setStyle({'cartoon': {'color':'blue'}})\n",
        "\n",
        "BB = ['C','O','N']\n",
        "view.addStyle({'and':[{'resn':[\"GLY\",\"PRO\"],'invert':True},{'atom':BB,'invert':True}]},\n",
        "                        {'stick':{'colorscheme':f\"WhiteCarbon\",'radius':0.3}})\n",
        "view.addStyle({'and':[{'resn':\"GLY\"},{'atom':'CA'}]},\n",
        "                        {'sphere':{'colorscheme':f\"WhiteCarbon\",'radius':0.3}})\n",
        "view.addStyle({'and':[{'resn':\"PRO\"},{'atom':['C','O'],'invert':True}]},\n",
        "                        {'stick':{'colorscheme':f\"WhiteCarbon\",'radius':0.3}})\n",
        "\n",
        "view.zoomTo()\n",
        "view.animate({'loop': \"forward\"})\n",
        "view.show()"
      ],
      "metadata": {
        "id": "gOgpA_Nmen5r"
      },
      "execution_count": null,
      "outputs": []
    },
    {
      "cell_type": "markdown",
      "source": [
        "Al igual que antes, vamos a crear un script de .r \n",
        "\n"
      ],
      "metadata": {
        "id": "VmggQ5GayDuY"
      }
    },
    {
      "cell_type": "code",
      "source": [
        "%%R\n",
        "library('frustratometeR')\n",
        "OrderList <- c()\n",
        "for(i in as.numeric(1):as.numeric(40)){OrderList <- c(OrderList, paste( i, \".pdb\", sep = \"\"))}\n",
        "Dynamic_conf <- dynamic_frustration(PdbsDir = '/content/Dynamics/', OrderList = OrderList, ResultsDir = \"/content/Dynamics/Results/\")\n",
        "\n",
        "# Analyzing residue Resno\n",
        "Dynamic_conf <- dynamic_res(Dynamic = Dynamic_conf, Resno = as.numeric(68), Chain = \"A\", Graphics = TRUE)\n",
        "\n",
        "#Visualisations\n",
        "plot_dynamic_res_5Adens_proportion(Dynamic = Dynamic_conf, Resno = as.numeric(68), Chain = \"A\")"
      ],
      "metadata": {
        "id": "qWOLCP9fyM-2"
      },
      "execution_count": null,
      "outputs": []
    },
    {
      "cell_type": "code",
      "source": [
        "from IPython.display import Image\n",
        "Image('/content/Dynamics/Results/Dynamic_plots_res_68_A/dynamic5adens_configurational_Res68.png')\n"
      ],
      "metadata": {
        "id": "LSrLLpCIOxNs"
      },
      "execution_count": null,
      "outputs": []
    },
    {
      "cell_type": "markdown",
      "source": [
        "*Now* that frustration values were calculated for a given residue for all the frames we can track its evolution as a function of the frame order (usually simulation time) Let's see!\n"
      ],
      "metadata": {
        "id": "mZpo7jrG1qfP"
      }
    }
  ],
  "metadata": {
    "colab": {
      "provenance": [],
      "include_colab_link": true
    },
    "gpuClass": "standard",
    "kernelspec": {
      "display_name": "Python 3",
      "name": "python3"
    },
    "language_info": {
      "name": "python"
    }
  },
  "nbformat": 4,
  "nbformat_minor": 0
}